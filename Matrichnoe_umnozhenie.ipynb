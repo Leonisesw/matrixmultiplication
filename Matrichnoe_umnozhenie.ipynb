{
 "cells": [
  {
   "cell_type": "markdown",
   "id": "rental-separation",
   "metadata": {
    "toc": true
   },
   "source": [
    "<h1>Table of Contents<span class=\"tocSkip\"></span></h1>\n",
    "<div class=\"toc\"><ul class=\"toc-item\"><li><span><a href=\"#15.-Матричное-умножение\" data-toc-modified-id=\"15.-Матричное-умножение-1\"><span class=\"toc-item-num\">1&nbsp;&nbsp;</span>15. Матричное умножение</a></span></li><li><span><a href=\"#Вывод\" data-toc-modified-id=\"Вывод-2\"><span class=\"toc-item-num\">2&nbsp;&nbsp;</span>Вывод</a></span></li></ul></div>"
   ]
  },
  {
   "cell_type": "markdown",
   "id": "noticed-atlanta",
   "metadata": {},
   "source": [
    "# 15. Матричное умножение\n",
    "Вычисление элементов произведения $C$ двух квадратных матриц $A=(a_{ij})$ и $B=(b_{ij})$ по формулам$$\n",
    "c_{ij} = \\sum_{k=1}^n a_{ik} b_{kj} \\qquad (i=1,2,\\dots,n;~ j=1,2,\\dots,n)\n",
    "$$легко реализуется с помощью трех вложенных циклов: по $i$, по $j$ и по $k$. Различные варианты алгоритма можно получить перестановкой циклов. Напишите шесть функций multijk, multikj, multjik, ..., реализующих каждый из этих вариантов. Для серии случайно сгенерированных матриц больших размеров замерьте время, требуемое этими функциями и стандартной операцией @. Нарисуйте графики зависимости времени от порядка матриц. Объясните, почему требуется различное время на выполнение каждой из написанных вами функций."
   ]
  },
  {
   "cell_type": "code",
   "execution_count": 10,
   "id": "tamil-calculation",
   "metadata": {},
   "outputs": [],
   "source": [
    "import numpy as np\n",
    "import matplotlib.pyplot as plt\n",
    "import time"
   ]
  },
  {
   "cell_type": "markdown",
   "id": "prime-aaron",
   "metadata": {},
   "source": [
    "Реализуем функции со вложенными циклами и функцию с умножением через @"
   ]
  },
  {
   "cell_type": "code",
   "execution_count": 11,
   "id": "coastal-brave",
   "metadata": {},
   "outputs": [],
   "source": [
    "defaul = []\n",
    "kij = []\n",
    "kji = []\n",
    "ijk = []\n",
    "ikj = []\n",
    "jik = []\n",
    "jki = []\n",
    "\n",
    "def default():\n",
    "    start_time = time.time() \n",
    "    C = A @ B\n",
    "    defaul.append(time.time() - start_time)\n",
    "\n",
    "\n",
    "def multkij(ord):\n",
    "    i = j = k = ord\n",
    "    start_time = time.time() \n",
    "    C = np.zeros(shape=(k, k))\n",
    "    for _k in range(k):\n",
    "        for _i in range(i):\n",
    "            for _j in range(j):\n",
    "                C[_i, _j] += A[_i, _k] * B[_k, _j]\n",
    "    kij.append(time.time() - start_time)\n",
    "\n",
    "    \n",
    "def multkji(ord):\n",
    "    i = j = k = ord\n",
    "    start_time = time.time()\n",
    "    C = np.zeros(shape=(k, k))\n",
    "    for _k in range(k):\n",
    "        for _j in range(j):\n",
    "            for _i in range(i):\n",
    "                C[_i, _j] += A[_i, _k] * B[_k, _j]\n",
    "    kji.append(time.time() - start_time)\n",
    "\n",
    "    \n",
    "def multijk(ord):\n",
    "    i = j = k = ord\n",
    "    start_time = time.time()\n",
    "    C = np.zeros(shape=(k, k))\n",
    "    for _i in range(i):\n",
    "        for _j in range(j):\n",
    "            for _k in range(k):\n",
    "                C[_i, _j] += A[_i, _k] * B[_k, _j]\n",
    "    ijk.append(time.time() - start_time)\n",
    "\n",
    "def multikj(ord):\n",
    "    i = j = k = ord\n",
    "    start_time = time.time()\n",
    "    C = np.zeros(shape=(k, k))\n",
    "    for _i in range(i):\n",
    "        for _k in range(k):\n",
    "            for _j in range(j):\n",
    "                C[_i, _j] += A[_i, _k] * B[_k, _j]\n",
    "    ikj.append(time.time() - start_time)\n",
    "    \n",
    "def multjik(ord):\n",
    "    i = j = k = ord\n",
    "    start_time = time.time()\n",
    "    C = np.zeros(shape=(k, k))\n",
    "    for _j in range(j):\n",
    "        for _i in range(i):\n",
    "            for _k in range(k):\n",
    "                C[_i, _j] += A[_i, _k] * B[_k, _j]\n",
    "    jik.append(time.time() - start_time)\n",
    "    \n",
    "def multjki(ord):\n",
    "    i = j = k = ord\n",
    "    start_time = time.time()\n",
    "    C = np.zeros(shape=(k, k))\n",
    "    for _j in range(j):\n",
    "        for _k in range(k):\n",
    "            for _i in range(i):\n",
    "                C[_i, _j] += A[_i, _k] * B[_k, _j]\n",
    "    jki.append(time.time() - start_time)\n",
    "    \n",
    "for i in range(2, 50):\n",
    "    A = np.random.random((i,i))\n",
    "    B = np.random.random((i,i))\n",
    "    order = i\n",
    "    \n",
    "    default()\n",
    "    multkij(order)\n",
    "    multkji(order)\n",
    "    multijk(order)\n",
    "    multikj(order)\n",
    "    multjik(order)\n",
    "    multjki(order)"
   ]
  },
  {
   "cell_type": "markdown",
   "id": "outdoor-invasion",
   "metadata": {},
   "source": [
    "Построим графики зависимости времени от порядка матрицы"
   ]
  },
  {
   "cell_type": "code",
   "execution_count": 12,
   "id": "gorgeous-printing",
   "metadata": {},
   "outputs": [
    {
     "data": {
      "image/png": "[encoded data removed]",
      "text/plain": [
       "<Figure size 432x288 with 1 Axes>"
      ]
     },
     "metadata": {
      "needs_background": "light"
     },
     "output_type": "display_data"
    }
   ],
   "source": [
    "plt.semilogy(defaul, label='defaul')\n",
    "plt.semilogy(kij, label='kij')\n",
    "plt.semilogy(kji, label='kji')\n",
    "plt.semilogy(ijk, label='ijk')\n",
    "plt.semilogy(ikj, label='ikj')\n",
    "plt.semilogy(jik, label='jik')\n",
    "plt.semilogy(jki, label='jki')\n",
    "plt.legend()\n",
    "pass\n"
   ]
  },
  {
   "cell_type": "markdown",
   "id": "closing-consistency",
   "metadata": {},
   "source": [
    "# Вывод\n",
    "1) На графике видно, что умножение через @ в крайних случаях выполняется дольще чем с нулевой задержкой.\n",
    "\n",
    "2) Времея выполнения функций со вложенными циклами возрастает по мере увелечения порядка матриц.\n",
    "\n",
    "3) 6 реализованных нами функций на сакмом деле ничем не отличаются друг от друга, а небольшая разница во времени обусловленна механинзмами самого языка.\n"
   ]
  }
 ],
 "metadata": {
  "kernelspec": {
   "display_name": "Python UNN",
   "language": "python",
   "name": "coursepyunn"
  },
  "language_info": {
   "codemirror_mode": {
    "name": "ipython",
    "version": 3
   },
   "file_extension": ".py",
   "mimetype": "text/x-python",
   "name": "python",
   "nbconvert_exporter": "python",
   "pygments_lexer": "ipython3",
   "version": "3.9.2"
  },
  "toc": {
   "base_numbering": 1,
   "nav_menu": {},
   "number_sections": true,
   "sideBar": true,
   "skip_h1_title": false,
   "title_cell": "Table of Contents",
   "title_sidebar": "Contents",
   "toc_cell": true,
   "toc_position": {},
   "toc_section_display": true,
   "toc_window_display": false
  }
 },
 "nbformat": 4,
 "nbformat_minor": 5
}
